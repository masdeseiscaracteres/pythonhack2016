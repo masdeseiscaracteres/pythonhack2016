{
 "cells": [
  {
   "cell_type": "markdown",
   "metadata": {},
   "source": [
    "# Datathon Cajamar PythonHack 2016\n",
    "Equipo: WoodenSpoonNinjas\n",
    "\n",
    "Comenzamos importando los paquetes y módulos que vamos a utilizar"
   ]
  },
  {
   "cell_type": "code",
   "execution_count": 6,
   "metadata": {
    "collapsed": false
   },
   "outputs": [],
   "source": [
    "from collections import Counter\n",
    "import numpy as np\n",
    "import pandas as pd\n",
    "import seaborn\n",
    "\n",
    "import matplotlib.pyplot as plt\n",
    "%matplotlib inline\n",
    "\n",
    "from sklearn.model_selection import cross_val_score, train_test_split\n",
    "from sklearn.metrics import roc_curve, roc_auc_score, precision_recall_curve, confusion_matrix, classification_report\n",
    "from sklearn import metrics   # Más métricas\n",
    "\n",
    "from sklearn.model_selection import GridSearchCV  # Validación cruzada en rejilla de parámetros\n",
    "\n",
    "import xgboost as xgb\n",
    "from xgboost.sklearn import XGBClassifier\n",
    "  \n",
    "import itertools"
   ]
  },
  {
   "cell_type": "markdown",
   "metadata": {},
   "source": [
    "Cargamos los datos de entrenamiento (previamente convertidos a csv) como un Pandas DataFrame y separamos las variables independientes `X` y la variable dependiente `y`. Al terminar, contamos el número de registros en cada clase."
   ]
  },
  {
   "cell_type": "code",
   "execution_count": 7,
   "metadata": {
    "collapsed": false
   },
   "outputs": [
    {
     "name": "stdout",
     "output_type": "stream",
     "text": [
      "Counter({0: 464360, 1: 7478})\n"
     ]
    }
   ],
   "source": [
    "filename = 'pm_train.csv'\n",
    "D = pd.read_csv(filename)\n",
    "columns = D.columns\n",
    "\n",
    "X = D.drop([\"TARGET\"],axis=1).values\n",
    "y = D['TARGET'].values\n",
    "print(Counter(y))"
   ]
  },
  {
   "cell_type": "markdown",
   "metadata": {},
   "source": [
    "Como se puede ver, el número de muestras en cada clase es muy dispar (sólo un 1.6% de ellas pertenecen a la clase 1).  En este punto, tenemos 2 opciones: \n",
    "1. Ajustar el número de muestras en ambas clase para que sean iguales (utilizando técnicas de undersampling, oversampling o una combinación de ellas)\n",
    "2. No ajustar el número de muestras y hacer que nuestra técnica tenga en cuenta esta probabilidad en sus predicciones.\n",
    "\n",
    "En los criterios de evaluación del reto, se indica que clasificar correctamente ambas clases será tenido en consideración (se valorará especificidad y sensibilidad). Consecuentemente, seguiremos la aproximación 1, para que nuestros resultados no estén sesgados hacia la clase 0 debido al desbalance. De esta manera, conseguimos también que los resultados sean robustos a futuros cambios en la probabilidad a priori de cliente pidiendo/no pidiendo préstamos."
   ]
  },
  {
   "cell_type": "code",
   "execution_count": 17,
   "metadata": {
    "collapsed": false
   },
   "outputs": [
    {
     "name": "stdout",
     "output_type": "stream",
     "text": [
      "Counter({0: 7478, 1: 7478})\n"
     ]
    }
   ],
   "source": [
    "method = \"US\"\n",
    "if method == \"US\":\n",
    "    from imblearn.under_sampling import RandomUnderSampler\n",
    "    resamp = RandomUnderSampler(random_state=42)\n",
    "    X_res, y_res = resamp.fit_sample(X, y)\n",
    "elif  method == \"OS\":\n",
    "    from imblearn.over_sampling import SMOTE\n",
    "    resamp = SMOTE(random_state=42)\n",
    "    X_res, y_res = resamp.fit_sample(X, y)\n",
    "    sel = np.random.randint(0, y_res.shape[0], 20000)\n",
    "    X_res = X_res[sel,:]\n",
    "    y_res = y_res[sel]   \n",
    "else:\n",
    "    X_res, y_res = X, y\n",
    "\n",
    "print(Counter(y_res))"
   ]
  },
  {
   "cell_type": "code",
   "execution_count": 18,
   "metadata": {
    "collapsed": true
   },
   "outputs": [],
   "source": [
    "X_sel = X_res  # Seleccionamos para el entrenamiento todas las características remuestreadas"
   ]
  },
  {
   "cell_type": "markdown",
   "metadata": {},
   "source": [
    "## Validación cruzada\n",
    "Como modelo de clasificación utilizaremos un *eXtreme Gradient Boosting model* de la biblioteca `xgboost`. Para realizar la selección de los hiperparámetros del modelo utilizaremos un sistema de validación cruzada secuencial ya que, por el tiempo (y potencia de cálculo) limitada de que disponemos nos imposible realizar una búsqueda exhaustiva en toda la rejilla de hiperparámetros.\n",
    "\n",
    "### Selección del número de estimadores\n",
    "En primer lugar fijamos todos los parámetros del modelo excepto el número de estimadores y realizamos una validación cruzada de este último parámetro. Para ello, primero implementamos una función auxiliar `modelfit` para realizar el barrido."
   ]
  },
  {
   "cell_type": "code",
   "execution_count": 19,
   "metadata": {
    "collapsed": true
   },
   "outputs": [],
   "source": [
    "def modelfit(alg, predictors, target, useTrainCV=True, cv_folds=5, early_stopping_rounds=50):\n",
    "    if useTrainCV:\n",
    "        xgb_param = alg.get_xgb_params()\n",
    "        xgtrain = xgb.DMatrix(predictors, label=target)\n",
    "        cvresult = xgb.cv(xgb_param, xgtrain, num_boost_round=alg.get_params()['n_estimators'], nfold=cv_folds,\n",
    "                          metrics='auc', early_stopping_rounds=early_stopping_rounds, verbose_eval=True)\n",
    "        alg.set_params(n_estimators=cvresult.shape[0])\n",
    "\n",
    "        \n",
    "    # Fit the algorithm on the data\n",
    "    alg.fit(predictors, target, eval_metric='auc')\n",
    "\n",
    "    # Predict training set:\n",
    "    dtrain_predictions = alg.predict(predictors)\n",
    "    dtrain_predprob = alg.predict_proba(predictors)[:, 1]\n",
    "\n",
    "    # Print model report:\n",
    "    print(\"Model Report\")\n",
    "    print(\"Accuracy : %.4g\" % metrics.accuracy_score(target, dtrain_predictions))\n",
    "    print(\"AUC Score (Train): %f\" % metrics.roc_auc_score(target, dtrain_predprob))\n",
    "    \n",
    "\n",
    "    feat_imp = pd.Series(alg.booster().get_fscore()).sort_values(ascending=False)\n",
    "    plt.figure(figsize=(20,10))\n",
    "    feat_imp.plot(kind='bar', title='Feature Importances')\n",
    "    plt.ylabel('Feature Importance Score')\n",
    "    return alg"
   ]
  },
  {
   "cell_type": "markdown",
   "metadata": {},
   "source": [
    "Ejecutamos el barrido y observamos que finaliza indicando que el número optimo de estimadores es 385. A partir de este punto, fijaremos este hiperparámetro para optimizar el resto "
   ]
  },
  {
   "cell_type": "code",
   "execution_count": 26,
   "metadata": {
    "collapsed": false
   },
   "outputs": [
    {
     "name": "stdout",
     "output_type": "stream",
     "text": [
      "[0]\ttrain-auc:0.839808+0.00171059\ttest-auc:0.826817+0.0103184\n",
      "[1]\ttrain-auc:0.851201+0.00392178\ttest-auc:0.837704+0.00693683\n",
      "[2]\ttrain-auc:0.858353+0.00328648\ttest-auc:0.84396+0.0079885\n",
      "[3]\ttrain-auc:0.86212+0.00330253\ttest-auc:0.847497+0.00756405\n",
      "[4]\ttrain-auc:0.865265+0.00278012\ttest-auc:0.85011+0.00799946\n",
      "[5]\ttrain-auc:0.867921+0.00302978\ttest-auc:0.852881+0.00793075\n",
      "[6]\ttrain-auc:0.86987+0.00339854\ttest-auc:0.854506+0.00822721\n",
      "[7]\ttrain-auc:0.872393+0.00287162\ttest-auc:0.856482+0.00791109\n",
      "[8]\ttrain-auc:0.874293+0.00311432\ttest-auc:0.858005+0.00736747\n",
      "[9]\ttrain-auc:0.876129+0.00277235\ttest-auc:0.859624+0.007468\n",
      "[10]\ttrain-auc:0.877636+0.00269972\ttest-auc:0.860497+0.00767365\n",
      "[11]\ttrain-auc:0.879046+0.00246435\ttest-auc:0.861499+0.0079584\n",
      "[12]\ttrain-auc:0.880173+0.00245154\ttest-auc:0.862691+0.00771334\n",
      "[13]\ttrain-auc:0.881602+0.00205924\ttest-auc:0.86382+0.00788325\n",
      "[14]\ttrain-auc:0.882786+0.00191871\ttest-auc:0.864604+0.00805297\n",
      "[15]\ttrain-auc:0.884163+0.00179159\ttest-auc:0.865775+0.00806183\n",
      "[16]\ttrain-auc:0.885512+0.0017605\ttest-auc:0.866849+0.00814692\n",
      "[17]\ttrain-auc:0.886659+0.00186687\ttest-auc:0.867667+0.0079363\n",
      "[18]\ttrain-auc:0.887576+0.00194896\ttest-auc:0.868506+0.00804284\n",
      "[19]\ttrain-auc:0.888799+0.00182833\ttest-auc:0.869275+0.00826667\n",
      "[20]\ttrain-auc:0.889837+0.00170271\ttest-auc:0.869993+0.00814772\n",
      "[21]\ttrain-auc:0.891452+0.00148923\ttest-auc:0.871435+0.00832809\n",
      "[22]\ttrain-auc:0.892655+0.00129467\ttest-auc:0.872408+0.00839547\n",
      "[23]\ttrain-auc:0.893819+0.00118565\ttest-auc:0.873431+0.00861691\n",
      "[24]\ttrain-auc:0.894932+0.0015354\ttest-auc:0.874164+0.00817623\n",
      "[25]\ttrain-auc:0.896355+0.00163166\ttest-auc:0.875044+0.00776744\n",
      "[26]\ttrain-auc:0.897453+0.00158914\ttest-auc:0.875687+0.00798889\n",
      "[27]\ttrain-auc:0.898453+0.00157243\ttest-auc:0.876737+0.0079846\n",
      "[28]\ttrain-auc:0.899397+0.00149501\ttest-auc:0.87746+0.00806052\n",
      "[29]\ttrain-auc:0.900352+0.00143902\ttest-auc:0.878033+0.0078812\n",
      "[30]\ttrain-auc:0.90128+0.00147379\ttest-auc:0.878525+0.00798936\n",
      "[31]\ttrain-auc:0.902129+0.00134929\ttest-auc:0.879005+0.00811003\n",
      "[32]\ttrain-auc:0.902829+0.00138312\ttest-auc:0.879329+0.00815361\n",
      "[33]\ttrain-auc:0.903735+0.00155429\ttest-auc:0.879814+0.00788754\n",
      "[34]\ttrain-auc:0.904648+0.00159473\ttest-auc:0.880308+0.00787797\n",
      "[35]\ttrain-auc:0.905629+0.00163817\ttest-auc:0.880992+0.00776976\n",
      "[36]\ttrain-auc:0.906402+0.00170141\ttest-auc:0.881424+0.00781628\n",
      "[37]\ttrain-auc:0.90716+0.00162139\ttest-auc:0.881928+0.00787629\n",
      "[38]\ttrain-auc:0.907943+0.00155056\ttest-auc:0.882244+0.00779229\n",
      "[39]\ttrain-auc:0.90866+0.00152703\ttest-auc:0.882535+0.00788044\n",
      "[40]\ttrain-auc:0.909406+0.00157638\ttest-auc:0.882945+0.00796154\n",
      "[41]\ttrain-auc:0.910067+0.00172041\ttest-auc:0.883274+0.00780498\n",
      "[42]\ttrain-auc:0.91103+0.00159541\ttest-auc:0.883783+0.00769337\n",
      "[43]\ttrain-auc:0.911734+0.00140086\ttest-auc:0.884081+0.00783996\n",
      "[44]\ttrain-auc:0.912492+0.00140276\ttest-auc:0.884374+0.00802784\n",
      "[45]\ttrain-auc:0.913289+0.00133201\ttest-auc:0.884474+0.00802273\n",
      "[46]\ttrain-auc:0.913879+0.00142932\ttest-auc:0.884695+0.00795259\n",
      "[47]\ttrain-auc:0.914386+0.00150321\ttest-auc:0.884758+0.00808088\n",
      "[48]\ttrain-auc:0.91493+0.00140132\ttest-auc:0.884917+0.00808024\n",
      "[49]\ttrain-auc:0.915599+0.00143699\ttest-auc:0.885058+0.00814899\n",
      "[50]\ttrain-auc:0.91598+0.00149655\ttest-auc:0.885161+0.00815822\n",
      "[51]\ttrain-auc:0.916622+0.00138173\ttest-auc:0.88528+0.00814642\n",
      "[52]\ttrain-auc:0.91722+0.00160193\ttest-auc:0.885417+0.00822087\n",
      "[53]\ttrain-auc:0.917653+0.00149842\ttest-auc:0.885599+0.00832114\n",
      "[54]\ttrain-auc:0.918521+0.00146625\ttest-auc:0.885955+0.00825345\n",
      "[55]\ttrain-auc:0.919163+0.00142812\ttest-auc:0.886231+0.00824867\n",
      "[56]\ttrain-auc:0.919587+0.0014438\ttest-auc:0.886315+0.0082398\n",
      "[57]\ttrain-auc:0.920111+0.0014732\ttest-auc:0.88648+0.00814075\n",
      "[58]\ttrain-auc:0.920637+0.00148781\ttest-auc:0.886604+0.00809682\n",
      "[59]\ttrain-auc:0.921218+0.00138197\ttest-auc:0.886695+0.00810631\n",
      "[60]\ttrain-auc:0.921795+0.00133179\ttest-auc:0.886777+0.00812773\n",
      "[61]\ttrain-auc:0.922486+0.00136253\ttest-auc:0.887128+0.00804516\n",
      "[62]\ttrain-auc:0.92295+0.0015163\ttest-auc:0.887214+0.00800608\n",
      "[63]\ttrain-auc:0.923429+0.00144981\ttest-auc:0.887364+0.00805169\n",
      "[64]\ttrain-auc:0.923813+0.00134964\ttest-auc:0.887531+0.00807309\n",
      "[65]\ttrain-auc:0.924389+0.00149667\ttest-auc:0.887734+0.00799743\n",
      "[66]\ttrain-auc:0.925064+0.00154081\ttest-auc:0.887932+0.00792428\n",
      "[67]\ttrain-auc:0.925576+0.00152753\ttest-auc:0.887942+0.00788649\n",
      "[68]\ttrain-auc:0.926266+0.0014836\ttest-auc:0.888122+0.00794432\n",
      "[69]\ttrain-auc:0.926914+0.00145486\ttest-auc:0.888301+0.00790366\n",
      "[70]\ttrain-auc:0.92744+0.00133094\ttest-auc:0.888551+0.00798949\n",
      "[71]\ttrain-auc:0.927805+0.00125859\ttest-auc:0.888672+0.00803489\n",
      "[72]\ttrain-auc:0.928073+0.00128646\ttest-auc:0.888749+0.00803208\n",
      "[73]\ttrain-auc:0.928514+0.00122391\ttest-auc:0.888837+0.00801852\n",
      "[74]\ttrain-auc:0.929127+0.00126603\ttest-auc:0.888924+0.0079863\n",
      "[75]\ttrain-auc:0.929601+0.0014396\ttest-auc:0.889053+0.00780167\n",
      "[76]\ttrain-auc:0.930043+0.00136521\ttest-auc:0.889125+0.00786436\n",
      "[77]\ttrain-auc:0.930337+0.00139383\ttest-auc:0.889174+0.00789556\n",
      "[78]\ttrain-auc:0.93067+0.00137798\ttest-auc:0.889296+0.0078388\n",
      "[79]\ttrain-auc:0.931087+0.00130163\ttest-auc:0.889408+0.00791735\n",
      "[80]\ttrain-auc:0.931484+0.00121769\ttest-auc:0.889534+0.00797887\n",
      "[81]\ttrain-auc:0.931958+0.00137176\ttest-auc:0.889526+0.00792262\n",
      "[82]\ttrain-auc:0.932357+0.00146553\ttest-auc:0.889585+0.007838\n",
      "[83]\ttrain-auc:0.93248+0.00145219\ttest-auc:0.889633+0.00786695\n",
      "[84]\ttrain-auc:0.933023+0.00169685\ttest-auc:0.889761+0.0076771\n",
      "[85]\ttrain-auc:0.933342+0.00169777\ttest-auc:0.889835+0.00775004\n",
      "[86]\ttrain-auc:0.933727+0.00162007\ttest-auc:0.889807+0.00785038\n",
      "[87]\ttrain-auc:0.933988+0.00166163\ttest-auc:0.889856+0.00784914\n",
      "[88]\ttrain-auc:0.93442+0.00168123\ttest-auc:0.889878+0.00790147\n",
      "[89]\ttrain-auc:0.934753+0.00158494\ttest-auc:0.889931+0.00790539\n",
      "[90]\ttrain-auc:0.935113+0.00162298\ttest-auc:0.889949+0.00790664\n",
      "[91]\ttrain-auc:0.935476+0.00153185\ttest-auc:0.89015+0.00789432\n",
      "[92]\ttrain-auc:0.935859+0.00147743\ttest-auc:0.890144+0.00790411\n",
      "[93]\ttrain-auc:0.936157+0.00156178\ttest-auc:0.890267+0.00787377\n",
      "[94]\ttrain-auc:0.936452+0.00169788\ttest-auc:0.890325+0.00783706\n",
      "[95]\ttrain-auc:0.936883+0.00163079\ttest-auc:0.890412+0.00780692\n",
      "[96]\ttrain-auc:0.937252+0.00163381\ttest-auc:0.890428+0.00767434\n",
      "[97]\ttrain-auc:0.937587+0.00161101\ttest-auc:0.890601+0.00763028\n",
      "[98]\ttrain-auc:0.937971+0.0015287\ttest-auc:0.890675+0.00756303\n",
      "[99]\ttrain-auc:0.938328+0.0014919\ttest-auc:0.890627+0.0075496\n",
      "[100]\ttrain-auc:0.938596+0.00150155\ttest-auc:0.890664+0.00752659\n",
      "[101]\ttrain-auc:0.93892+0.00138564\ttest-auc:0.890646+0.00754067\n",
      "[102]\ttrain-auc:0.939307+0.00136734\ttest-auc:0.89065+0.00744262\n",
      "[103]\ttrain-auc:0.939596+0.0014258\ttest-auc:0.890754+0.00740473\n",
      "[104]\ttrain-auc:0.939898+0.00135405\ttest-auc:0.890817+0.00741607\n",
      "[105]\ttrain-auc:0.940332+0.00142098\ttest-auc:0.890928+0.00747616\n",
      "[106]\ttrain-auc:0.940723+0.00138305\ttest-auc:0.890907+0.00749774\n",
      "[107]\ttrain-auc:0.941038+0.00135597\ttest-auc:0.890871+0.00742629\n",
      "[108]\ttrain-auc:0.941328+0.00132047\ttest-auc:0.890945+0.00735449\n",
      "[109]\ttrain-auc:0.941599+0.00137816\ttest-auc:0.890968+0.00730955\n",
      "[110]\ttrain-auc:0.94193+0.00147774\ttest-auc:0.890945+0.00733953\n",
      "[111]\ttrain-auc:0.942242+0.00154171\ttest-auc:0.890905+0.00731596\n",
      "[112]\ttrain-auc:0.942511+0.00151938\ttest-auc:0.890916+0.00731485\n",
      "[113]\ttrain-auc:0.942797+0.00142057\ttest-auc:0.890955+0.00731142\n",
      "[114]\ttrain-auc:0.943141+0.0013883\ttest-auc:0.890885+0.00719454\n",
      "[115]\ttrain-auc:0.943439+0.00127918\ttest-auc:0.89085+0.00717085\n",
      "[116]\ttrain-auc:0.943794+0.00130832\ttest-auc:0.890848+0.00722965\n",
      "[117]\ttrain-auc:0.944128+0.00130446\ttest-auc:0.890863+0.0072349\n",
      "[118]\ttrain-auc:0.944345+0.00138975\ttest-auc:0.890904+0.00725959\n",
      "[119]\ttrain-auc:0.944655+0.00149278\ttest-auc:0.89089+0.00717782\n",
      "[120]\ttrain-auc:0.944954+0.00143313\ttest-auc:0.890981+0.00726935\n",
      "[121]\ttrain-auc:0.945228+0.0014605\ttest-auc:0.891109+0.00735707\n",
      "[122]\ttrain-auc:0.945561+0.00155553\ttest-auc:0.891147+0.00733941\n",
      "[123]\ttrain-auc:0.945819+0.00154362\ttest-auc:0.891155+0.00739481\n",
      "[124]\ttrain-auc:0.946168+0.00146946\ttest-auc:0.891254+0.0075166\n",
      "[125]\ttrain-auc:0.946498+0.00154163\ttest-auc:0.891372+0.00744421\n",
      "[126]\ttrain-auc:0.946821+0.00139312\ttest-auc:0.89146+0.00750559\n",
      "[127]\ttrain-auc:0.947133+0.0013764\ttest-auc:0.891564+0.00752445\n",
      "[128]\ttrain-auc:0.947412+0.00135602\ttest-auc:0.891536+0.00751082\n",
      "[129]\ttrain-auc:0.947624+0.00129916\ttest-auc:0.891635+0.00746061\n",
      "[130]\ttrain-auc:0.947962+0.00137498\ttest-auc:0.891737+0.00761118\n",
      "[131]\ttrain-auc:0.948173+0.00135039\ttest-auc:0.891812+0.00757783\n",
      "[132]\ttrain-auc:0.948483+0.00131977\ttest-auc:0.891844+0.00744337\n",
      "[133]\ttrain-auc:0.948772+0.00130914\ttest-auc:0.891867+0.00744883\n",
      "[134]\ttrain-auc:0.949043+0.00130312\ttest-auc:0.891859+0.00756676\n",
      "[135]\ttrain-auc:0.949314+0.00125486\ttest-auc:0.891909+0.00760991\n",
      "[136]\ttrain-auc:0.949589+0.00136811\ttest-auc:0.891932+0.00764438\n",
      "[137]\ttrain-auc:0.949734+0.00134653\ttest-auc:0.891868+0.00764772\n",
      "[138]\ttrain-auc:0.950072+0.00137056\ttest-auc:0.8919+0.00781653\n",
      "[139]\ttrain-auc:0.950321+0.00139727\ttest-auc:0.891884+0.0078568\n",
      "[140]\ttrain-auc:0.950536+0.00134886\ttest-auc:0.891951+0.00779773\n",
      "[141]\ttrain-auc:0.950738+0.00130258\ttest-auc:0.892009+0.00776325\n",
      "[142]\ttrain-auc:0.951028+0.00126636\ttest-auc:0.892062+0.00774706\n",
      "[143]\ttrain-auc:0.951241+0.00129043\ttest-auc:0.892072+0.00773679\n",
      "[144]\ttrain-auc:0.951476+0.00127922\ttest-auc:0.892165+0.00768395\n",
      "[145]\ttrain-auc:0.951764+0.00126498\ttest-auc:0.892122+0.00759501\n",
      "[146]\ttrain-auc:0.951996+0.00118851\ttest-auc:0.892192+0.00745657\n",
      "[147]\ttrain-auc:0.952211+0.00111042\ttest-auc:0.89223+0.00742677\n",
      "[148]\ttrain-auc:0.952483+0.000969332\ttest-auc:0.892283+0.00744594\n",
      "[149]\ttrain-auc:0.952765+0.000964397\ttest-auc:0.892304+0.00751167\n",
      "[150]\ttrain-auc:0.953157+0.00104862\ttest-auc:0.892299+0.00756297\n",
      "[151]\ttrain-auc:0.953447+0.00110265\ttest-auc:0.892297+0.00756652\n",
      "[152]\ttrain-auc:0.953726+0.00103682\ttest-auc:0.892294+0.00756972\n",
      "[153]\ttrain-auc:0.953952+0.000944316\ttest-auc:0.892316+0.00756884\n",
      "[154]\ttrain-auc:0.954122+0.000938449\ttest-auc:0.892336+0.0076407\n",
      "[155]\ttrain-auc:0.95439+0.000970227\ttest-auc:0.892377+0.00754935\n",
      "[156]\ttrain-auc:0.954589+0.00103038\ttest-auc:0.89236+0.00762426\n",
      "[157]\ttrain-auc:0.954868+0.000958644\ttest-auc:0.892446+0.00764348\n",
      "[158]\ttrain-auc:0.955084+0.000928824\ttest-auc:0.892536+0.00773142\n",
      "[159]\ttrain-auc:0.955349+0.000924746\ttest-auc:0.892525+0.00770877\n",
      "[160]\ttrain-auc:0.955545+0.000907382\ttest-auc:0.892448+0.0077939\n",
      "[161]\ttrain-auc:0.95572+0.000900311\ttest-auc:0.892482+0.00780491\n",
      "[162]\ttrain-auc:0.956016+0.00103221\ttest-auc:0.892513+0.00777771\n",
      "[163]\ttrain-auc:0.956241+0.0011118\ttest-auc:0.892538+0.00776957\n",
      "[164]\ttrain-auc:0.95647+0.0010137\ttest-auc:0.892515+0.00782419\n",
      "[165]\ttrain-auc:0.956692+0.0011412\ttest-auc:0.89247+0.00784827\n",
      "[166]\ttrain-auc:0.956886+0.00105306\ttest-auc:0.892551+0.00790477\n",
      "[167]\ttrain-auc:0.957053+0.00104328\ttest-auc:0.892548+0.00789113\n",
      "[168]\ttrain-auc:0.957207+0.00100365\ttest-auc:0.892562+0.00791809\n",
      "[169]\ttrain-auc:0.957423+0.00095785\ttest-auc:0.892591+0.00798499\n",
      "[170]\ttrain-auc:0.957625+0.000925259\ttest-auc:0.892588+0.00797537\n",
      "[171]\ttrain-auc:0.957804+0.00100174\ttest-auc:0.892644+0.00794921\n",
      "[172]\ttrain-auc:0.958046+0.0010544\ttest-auc:0.892646+0.00798134\n",
      "[173]\ttrain-auc:0.958317+0.00107945\ttest-auc:0.892668+0.00794809\n",
      "[174]\ttrain-auc:0.958537+0.00100461\ttest-auc:0.892665+0.00792561\n",
      "[175]\ttrain-auc:0.958898+0.00099376\ttest-auc:0.89258+0.0079785\n",
      "[176]\ttrain-auc:0.959109+0.000948883\ttest-auc:0.892579+0.0080536\n",
      "[177]\ttrain-auc:0.959346+0.00101093\ttest-auc:0.892566+0.00811446\n",
      "[178]\ttrain-auc:0.959543+0.000965447\ttest-auc:0.892508+0.00813308\n",
      "[179]\ttrain-auc:0.959738+0.000912229\ttest-auc:0.892557+0.00818612\n",
      "[180]\ttrain-auc:0.95998+0.000835913\ttest-auc:0.892611+0.00817993\n",
      "[181]\ttrain-auc:0.960294+0.000864174\ttest-auc:0.892601+0.00816707\n",
      "[182]\ttrain-auc:0.960525+0.000820458\ttest-auc:0.892607+0.00811211\n",
      "[183]\ttrain-auc:0.960796+0.000818428\ttest-auc:0.892623+0.0081187\n",
      "[184]\ttrain-auc:0.961035+0.00082342\ttest-auc:0.892601+0.00809693\n",
      "[185]\ttrain-auc:0.96118+0.000830082\ttest-auc:0.892586+0.0080894\n",
      "[186]\ttrain-auc:0.961481+0.000792472\ttest-auc:0.89259+0.00812179\n",
      "[187]\ttrain-auc:0.961712+0.000859902\ttest-auc:0.892542+0.00815413\n",
      "[188]\ttrain-auc:0.961898+0.000782129\ttest-auc:0.892556+0.00816704\n",
      "[189]\ttrain-auc:0.962082+0.000784246\ttest-auc:0.892662+0.00812324\n",
      "[190]\ttrain-auc:0.962253+0.000823369\ttest-auc:0.892658+0.00803654\n",
      "[191]\ttrain-auc:0.962494+0.000748088\ttest-auc:0.892664+0.00805484\n",
      "[192]\ttrain-auc:0.96268+0.000739652\ttest-auc:0.892724+0.0080689\n",
      "[193]\ttrain-auc:0.962823+0.000788884\ttest-auc:0.892676+0.0081296\n",
      "[194]\ttrain-auc:0.963081+0.000876163\ttest-auc:0.892667+0.0080821\n",
      "[195]\ttrain-auc:0.963302+0.000942668\ttest-auc:0.892725+0.00798224\n",
      "[196]\ttrain-auc:0.963594+0.000970716\ttest-auc:0.892757+0.00803451\n",
      "[197]\ttrain-auc:0.963805+0.000931765\ttest-auc:0.892762+0.00804723\n",
      "[198]\ttrain-auc:0.964053+0.000853161\ttest-auc:0.89283+0.00805416\n",
      "[199]\ttrain-auc:0.964247+0.000909006\ttest-auc:0.892828+0.00807433\n",
      "[200]\ttrain-auc:0.964396+0.000946844\ttest-auc:0.892817+0.00814038\n",
      "[201]\ttrain-auc:0.964519+0.000928561\ttest-auc:0.892793+0.00813787\n",
      "[202]\ttrain-auc:0.964782+0.000991937\ttest-auc:0.892722+0.00813407\n",
      "[203]\ttrain-auc:0.96496+0.00101755\ttest-auc:0.892715+0.00816163\n",
      "[204]\ttrain-auc:0.96518+0.000945682\ttest-auc:0.892668+0.00823581\n",
      "[205]\ttrain-auc:0.965357+0.000912264\ttest-auc:0.892646+0.00825223\n",
      "[206]\ttrain-auc:0.965553+0.000970866\ttest-auc:0.892657+0.00829376\n",
      "[207]\ttrain-auc:0.965718+0.000982086\ttest-auc:0.892603+0.00827964\n",
      "[208]\ttrain-auc:0.965945+0.00084441\ttest-auc:0.892572+0.00826787\n",
      "[209]\ttrain-auc:0.966141+0.000814813\ttest-auc:0.892598+0.00813844\n",
      "[210]\ttrain-auc:0.966294+0.000831657\ttest-auc:0.892618+0.0081623\n",
      "[211]\ttrain-auc:0.966468+0.00079087\ttest-auc:0.892609+0.00808418\n",
      "[212]\ttrain-auc:0.966692+0.000884318\ttest-auc:0.89253+0.00815186\n",
      "[213]\ttrain-auc:0.966902+0.000868741\ttest-auc:0.892517+0.0081919\n",
      "[214]\ttrain-auc:0.96706+0.000863936\ttest-auc:0.892525+0.00816293\n",
      "[215]\ttrain-auc:0.967242+0.000855471\ttest-auc:0.892629+0.00822494\n",
      "[216]\ttrain-auc:0.967448+0.00083466\ttest-auc:0.892618+0.0081786\n",
      "[217]\ttrain-auc:0.967606+0.000892583\ttest-auc:0.892655+0.00810419\n",
      "[218]\ttrain-auc:0.967752+0.00092212\ttest-auc:0.892682+0.00809369\n",
      "[219]\ttrain-auc:0.967993+0.000969974\ttest-auc:0.892624+0.00812013\n",
      "[220]\ttrain-auc:0.968197+0.000968315\ttest-auc:0.892679+0.00815448\n",
      "[221]\ttrain-auc:0.968466+0.000884835\ttest-auc:0.89263+0.00824214\n",
      "[222]\ttrain-auc:0.968626+0.000895346\ttest-auc:0.89265+0.00826365\n",
      "[223]\ttrain-auc:0.968753+0.000924859\ttest-auc:0.892676+0.0082901\n",
      "[224]\ttrain-auc:0.968897+0.000905584\ttest-auc:0.892683+0.00829321\n",
      "[225]\ttrain-auc:0.969077+0.000955964\ttest-auc:0.892618+0.00826414\n",
      "[226]\ttrain-auc:0.969247+0.000973507\ttest-auc:0.892704+0.00833391\n",
      "[227]\ttrain-auc:0.969395+0.000979427\ttest-auc:0.892712+0.00841924\n",
      "[228]\ttrain-auc:0.969567+0.000909364\ttest-auc:0.892717+0.00838647\n",
      "[229]\ttrain-auc:0.969708+0.000900707\ttest-auc:0.892785+0.00838381\n",
      "[230]\ttrain-auc:0.969876+0.000874282\ttest-auc:0.892806+0.00836928\n",
      "[231]\ttrain-auc:0.970041+0.000874155\ttest-auc:0.892785+0.00841202\n",
      "[232]\ttrain-auc:0.970146+0.000866204\ttest-auc:0.892826+0.0084143\n",
      "[233]\ttrain-auc:0.970261+0.000854212\ttest-auc:0.892837+0.00838475\n",
      "[234]\ttrain-auc:0.970485+0.000847455\ttest-auc:0.892819+0.00834369\n",
      "[235]\ttrain-auc:0.970662+0.000832753\ttest-auc:0.892838+0.00833353\n",
      "[236]\ttrain-auc:0.970852+0.000845171\ttest-auc:0.892889+0.00832432\n",
      "[237]\ttrain-auc:0.970989+0.000817857\ttest-auc:0.892935+0.00836841\n",
      "[238]\ttrain-auc:0.971124+0.000830063\ttest-auc:0.892914+0.00836071\n",
      "[239]\ttrain-auc:0.971286+0.000826974\ttest-auc:0.892923+0.00835543\n",
      "[240]\ttrain-auc:0.971432+0.000808239\ttest-auc:0.892957+0.00842647\n",
      "[241]\ttrain-auc:0.971576+0.00081742\ttest-auc:0.892976+0.00838875\n",
      "[242]\ttrain-auc:0.971701+0.000820922\ttest-auc:0.892927+0.00836717\n",
      "[243]\ttrain-auc:0.971858+0.000844415\ttest-auc:0.892937+0.00838817\n",
      "[244]\ttrain-auc:0.971996+0.000842006\ttest-auc:0.892915+0.00839736\n",
      "[245]\ttrain-auc:0.972084+0.000880706\ttest-auc:0.892919+0.00837073\n",
      "[246]\ttrain-auc:0.972213+0.000931898\ttest-auc:0.892889+0.00832425\n",
      "[247]\ttrain-auc:0.972293+0.000896904\ttest-auc:0.892869+0.00830585\n",
      "[248]\ttrain-auc:0.972377+0.000884336\ttest-auc:0.89286+0.00835436\n",
      "[249]\ttrain-auc:0.972498+0.000872528\ttest-auc:0.89283+0.00838855\n",
      "[250]\ttrain-auc:0.972647+0.000813344\ttest-auc:0.892788+0.00833792\n",
      "[251]\ttrain-auc:0.972753+0.000789313\ttest-auc:0.892788+0.00833449\n",
      "[252]\ttrain-auc:0.972954+0.00073121\ttest-auc:0.892799+0.00833111\n",
      "[253]\ttrain-auc:0.973086+0.00077297\ttest-auc:0.892824+0.0082933\n",
      "[254]\ttrain-auc:0.973196+0.00082005\ttest-auc:0.89284+0.00834559\n",
      "[255]\ttrain-auc:0.97335+0.000771615\ttest-auc:0.892823+0.00835421\n",
      "[256]\ttrain-auc:0.973514+0.000726582\ttest-auc:0.892807+0.00827661\n",
      "[257]\ttrain-auc:0.973606+0.000720471\ttest-auc:0.892786+0.00836738\n",
      "[258]\ttrain-auc:0.973707+0.000719945\ttest-auc:0.892788+0.00838894\n",
      "[259]\ttrain-auc:0.973813+0.000718357\ttest-auc:0.892793+0.00841035\n",
      "[260]\ttrain-auc:0.973881+0.000728191\ttest-auc:0.892801+0.00846073\n",
      "[261]\ttrain-auc:0.974043+0.000676733\ttest-auc:0.892843+0.00844469\n",
      "[262]\ttrain-auc:0.974173+0.000649674\ttest-auc:0.892782+0.00845797\n",
      "[263]\ttrain-auc:0.974341+0.000649604\ttest-auc:0.892693+0.00839131\n",
      "[264]\ttrain-auc:0.974459+0.000717722\ttest-auc:0.8927+0.0084097\n",
      "[265]\ttrain-auc:0.974626+0.000673987\ttest-auc:0.892693+0.00841141\n",
      "[266]\ttrain-auc:0.974767+0.000667471\ttest-auc:0.892666+0.00840575\n",
      "[267]\ttrain-auc:0.974914+0.000640906\ttest-auc:0.892699+0.00845917\n",
      "[268]\ttrain-auc:0.975048+0.000641332\ttest-auc:0.892604+0.0084603\n",
      "[269]\ttrain-auc:0.975195+0.000668933\ttest-auc:0.89263+0.00844446\n",
      "[270]\ttrain-auc:0.975294+0.00066686\ttest-auc:0.892616+0.00842676\n",
      "[271]\ttrain-auc:0.975436+0.000721942\ttest-auc:0.892657+0.00843918\n",
      "[272]\ttrain-auc:0.975575+0.000708615\ttest-auc:0.892622+0.00841796\n",
      "[273]\ttrain-auc:0.975717+0.000705867\ttest-auc:0.892664+0.00840106\n",
      "[274]\ttrain-auc:0.975901+0.000690303\ttest-auc:0.892689+0.00840826\n",
      "[275]\ttrain-auc:0.976079+0.000630773\ttest-auc:0.892591+0.00838097\n",
      "[276]\ttrain-auc:0.976275+0.00063996\ttest-auc:0.892615+0.00836929\n",
      "[277]\ttrain-auc:0.976425+0.000641166\ttest-auc:0.89264+0.00839487\n",
      "[278]\ttrain-auc:0.97658+0.000643692\ttest-auc:0.89264+0.00840323\n",
      "[279]\ttrain-auc:0.976699+0.00068269\ttest-auc:0.892687+0.0084274\n",
      "[280]\ttrain-auc:0.97681+0.000704768\ttest-auc:0.892662+0.00844418\n",
      "[281]\ttrain-auc:0.976963+0.00067372\ttest-auc:0.892656+0.00847922\n",
      "[282]\ttrain-auc:0.977063+0.000701606\ttest-auc:0.892608+0.00851185\n",
      "[283]\ttrain-auc:0.977195+0.00068829\ttest-auc:0.892607+0.00850083\n",
      "[284]\ttrain-auc:0.977276+0.000687733\ttest-auc:0.892607+0.00850641\n",
      "[285]\ttrain-auc:0.977436+0.000627868\ttest-auc:0.892633+0.00858339\n",
      "[286]\ttrain-auc:0.977528+0.000642833\ttest-auc:0.892598+0.00861011\n",
      "[287]\ttrain-auc:0.977666+0.000659727\ttest-auc:0.892587+0.00858336\n",
      "[288]\ttrain-auc:0.977771+0.000636126\ttest-auc:0.892583+0.00862277\n",
      "[289]\ttrain-auc:0.977929+0.000606055\ttest-auc:0.892559+0.00860138\n",
      "[290]\ttrain-auc:0.978052+0.000631095\ttest-auc:0.892476+0.0086017\n",
      "Model Report\n",
      "Accuracy : 0.8933\n",
      "AUC Score (Train): 0.962860\n"
     ]
    },
    {
     "data": {
      "image/png": "[encoded data removed]",
      "text/plain": [
       "<matplotlib.figure.Figure at 0xbf27cc0>"
      ]
     },
     "metadata": {},
     "output_type": "display_data"
    }
   ],
   "source": [
    "xgb1 = XGBClassifier(\n",
    " learning_rate=0.1,\n",
    " n_estimators= 1000,\n",
    " max_depth=5,\n",
    " min_child_weight=1,\n",
    " gamma=0,\n",
    " subsample=0.8,\n",
    " colsample_bytree=0.8,\n",
    " objective= 'binary:logistic',\n",
    " nthread=-1,\n",
    " scale_pos_weight=1,\n",
    " seed=27)\n",
    "alg = modelfit(xgb1, X_sel, y_res)"
   ]
  },
  {
   "cell_type": "code",
   "execution_count": 22,
   "metadata": {
    "collapsed": false
   },
   "outputs": [],
   "source": [
    "# Guardamos el modelo entrenado\n",
    "#from sklearn.externals import joblib\n",
    "#joblib.dump(alg,'imbalanced_alg.pkl')\n",
    "#joblib.dump(alg,'balanced_undersampled_alg.pkl')\n",
    "#alg = joblib.load('imbalanced_alg.pkl')\n",
    "#alg = joblib.load('balanced_undersampled_alg.pkl')"
   ]
  },
  {
   "cell_type": "code",
   "execution_count": null,
   "metadata": {
    "collapsed": true
   },
   "outputs": [],
   "source": [
    "### Selección del número de estimadores\n",
    "param_test1 = {\n",
    " 'max_depth': range(3,10,2),\n",
    " 'min_child_weight': range(1,6,2)\n",
    "}\n",
    "gsearch1 = GridSearchCV(estimator=XGBClassifier(learning_rate=0.1, n_estimators=385, max_depth=5,\n",
    " min_child_weight=1, gamma=0, subsample=0.8, colsample_bytree=0.8,\n",
    " objective='binary:logistic', nthread=4, scale_pos_weight=1, seed=27),\n",
    " param_grid = param_test1, scoring='roc_auc', n_jobs=-1, iid=False, cv=5, verbose=10)\n",
    "\n",
    "gsearch1.fit(X_sel, y_res)"
   ]
  },
  {
   "cell_type": "markdown",
   "metadata": {},
   "source": [
    "### Selección de los parámetros `max_depth` y `min_child_weight`\n",
    "Esta es la selección óptima obtenida por el proceso de validación cruzada:\n",
    "~~~~\n",
    "gsearch1.best_params_ = \n",
    " {'max_depth': 5, 'min_child_weight': 1}\n",
    "~~~~"
   ]
  },
  {
   "cell_type": "code",
   "execution_count": null,
   "metadata": {
    "collapsed": true
   },
   "outputs": [],
   "source": [
    "param_test2 = {\n",
    " 'gamma':[i/10.0 for i in range(0,5)]\n",
    "}\n",
    "gsearch2 = GridSearchCV(estimator=XGBClassifier(learning_rate=0.1, n_estimators=385, max_depth=5,\n",
    " min_child_weight=1, gamma=0, subsample=0.8, colsample_bytree=0.8,\n",
    " objective= 'binary:logistic', nthread=4, scale_pos_weight=1,seed=27),\n",
    " param_grid = param_test3, scoring='roc_auc', n_jobs=-1, iid=False, cv=5, verbose=10)\n",
    "gsearch2.fit(X_sel, y_res)"
   ]
  },
  {
   "cell_type": "markdown",
   "metadata": {},
   "source": [
    "### Selección de parámetro `gamma`\n",
    "Esta es la selección óptima obtenida por el proceso de validación cruzada:\n",
    "~~~~\n",
    "gsearch2.best_params_ = \n",
    " {'gamma': 0.0}\n",
    "~~~~\n",
    "\n",
    "### Selección del resto de parámetros\n",
    "El resto de parámetros son seleccionados de la misma manera. Para limitar la extensión de este documento, no se muestran aquí los detalles pero sí los resultados finales."
   ]
  },
  {
   "cell_type": "markdown",
   "metadata": {},
   "source": [
    "## Modelo final\n",
    "Tras las validaciones cruzadas terminamos con el modelo final indicado a continuación:"
   ]
  },
  {
   "cell_type": "code",
   "execution_count": 59,
   "metadata": {
    "collapsed": true
   },
   "outputs": [],
   "source": [
    "alg = XGBClassifier(\n",
    " learning_rate=0.1,\n",
    " n_estimators= 385,\n",
    " max_depth=5,  # máxima profundidad de los árboles base (mucha profundidad -> sobrejuste)\n",
    " min_child_weight=1,  # mínima suma de los pesos para todas las observaciones en un hijo\n",
    " gamma=0,  # mejora mínima para un nuevo split\n",
    " subsample=0.8,  # fracción de las muestras para evitar sobreajuste\n",
    " colsample_bytree=0.8, # fraccion de las columnas\n",
    " objective= 'binary:logistic', # función de clasificación para clasificación binaria\n",
    " nthread=-1,  # utilizamos todos los cores disponibles\n",
    " scale_pos_weight=1,  # 1: alto desequilibrio entre classes\n",
    " seed=27)  # definimos una semilla para que los resultados sean reproducibles"
   ]
  },
  {
   "cell_type": "markdown",
   "metadata": {},
   "source": [
    "Dividimos el conjunto de datos en test y train y hacemos una última validación cruzada antes de aplicar el modelo a los datos e test. Hacemos esto para asegurarnos de que no existe sobreajuste y nuestras predicciones no están sesgadas por el desbalance entre clases."
   ]
  },
  {
   "cell_type": "code",
   "execution_count": 27,
   "metadata": {
    "collapsed": false,
    "scrolled": true
   },
   "outputs": [
    {
     "data": {
      "image/png": "[encoded data removed]",
      "text/plain": [
       "<matplotlib.figure.Figure at 0xb2d2f60>"
      ]
     },
     "metadata": {},
     "output_type": "display_data"
    },
    {
     "name": "stdout",
     "output_type": "stream",
     "text": [
      "ROC-AUC = 0.8902205725912139\n"
     ]
    }
   ],
   "source": [
    "X_train, X_test, y_train, y_test = train_test_split(X_sel, y_res, test_size=0.4, random_state=0, stratify=y_res)\n",
    "alg = alg.fit(X_train, y_train)\n",
    "y_pred = alg.predict(X_test)\n",
    "pred_prob = alg.predict_proba(X_test)[:, 1]\n",
    "fpr, tpr, _ = roc_curve(y_test, pred_prob)\n",
    "\n",
    "plt.figure(figsize=(5,5))\n",
    "plt.plot([0, 1], [0, 1], 'k--')\n",
    "plt.plot(fpr, tpr, label='xgBoost')\n",
    "plt.xlabel('False positive rate (`1 - specificity` or  `1-TNR`)')\n",
    "plt.ylabel('True positive rate (sensitivity or recall)')\n",
    "plt.title('ROC curve')\n",
    "plt.legend(loc='best')\n",
    "plt.show()\n",
    "#score = alg.score(X_test, y_test)\n",
    "auc = roc_auc_score(y_test, pred_prob)\n",
    "print(\"ROC-AUC = {}\".format(auc))"
   ]
  },
  {
   "cell_type": "code",
   "execution_count": 28,
   "metadata": {
    "collapsed": false
   },
   "outputs": [
    {
     "name": "stdout",
     "output_type": "stream",
     "text": [
      "[[2341  651]\n",
      " [ 509 2482]]\n"
     ]
    }
   ],
   "source": [
    "print(confusion_matrix(y_test, y_pred))"
   ]
  },
  {
   "cell_type": "code",
   "execution_count": 29,
   "metadata": {
    "collapsed": false
   },
   "outputs": [
    {
     "name": "stdout",
     "output_type": "stream",
     "text": [
      "Confusion matrix, without normalization\n",
      "[[2341  651]\n",
      " [ 509 2482]]\n",
      "Normalized confusion matrix\n",
      "[[ 0.78  0.22]\n",
      " [ 0.17  0.83]]\n"
     ]
    },
    {
     "name": "stderr",
     "output_type": "stream",
     "text": [
      "C:\\Anaconda3\\lib\\site-packages\\matplotlib\\collections.py:590: FutureWarning: elementwise comparison failed; returning scalar instead, but in the future will perform elementwise comparison\n",
      "  if self._edgecolors == str('face'):\n"
     ]
    },
    {
     "data": {
      "image/png": "[encoded data removed]",
      "text/plain": [
       "<matplotlib.figure.Figure at 0xbe22588>"
      ]
     },
     "metadata": {},
     "output_type": "display_data"
    },
    {
     "data": {
      "image/png": "[encoded data removed]",
      "text/plain": [
       "<matplotlib.figure.Figure at 0xafe4f98>"
      ]
     },
     "metadata": {},
     "output_type": "display_data"
    }
   ],
   "source": [
    "def plot_confusion_matrix(cm, classes,\n",
    "                          normalize=False,\n",
    "                          title='Confusion matrix',\n",
    "                          cmap=plt.cm.Blues):\n",
    "    \"\"\"\n",
    "    This function prints and plots the confusion matrix.\n",
    "    Normalization can be applied by setting `normalize=True`.\n",
    "    \"\"\"\n",
    "    \n",
    "    if normalize:\n",
    "        cm = cm.astype('float') / cm.sum(axis=1)[:, np.newaxis]\n",
    "        print(\"Normalized confusion matrix\")\n",
    "    else:\n",
    "        print('Confusion matrix, without normalization')\n",
    "    \n",
    "    print(cm)\n",
    "    \n",
    "    plt.imshow(cm, interpolation='nearest', cmap=cmap)\n",
    "    plt.title(title)\n",
    "    \n",
    "    tick_marks = np.arange(len(classes))\n",
    "    plt.xticks(tick_marks, classes, rotation=45)\n",
    "    plt.yticks(tick_marks, classes)\n",
    "\n",
    "    thresh = cm.max() / 2.\n",
    "    for i, j in itertools.product(range(cm.shape[0]), range(cm.shape[1])):\n",
    "        plt.text(j, i, \"%.2f\" % cm[i, j],\n",
    "                 horizontalalignment=\"center\",\n",
    "                 color=\"white\" if cm[i, j] > thresh else \"black\")\n",
    "\n",
    "    plt.colorbar()    \n",
    "    plt.tight_layout()\n",
    "    plt.ylabel('True label')\n",
    "    plt.xlabel('Predicted label')\n",
    "\n",
    "class_names = [\"0\", \"1\"]    \n",
    "# Compute confusion matrix\n",
    "cnf_matrix = confusion_matrix(y_test, y_pred)\n",
    "np.set_printoptions(precision=2)\n",
    "\n",
    "# Plot non-normalized confusion matrix\n",
    "plt.figure(figsize=(10,5))\n",
    "plot_confusion_matrix(cnf_matrix, classes=class_names,\n",
    "                      title='Confusion matrix, without normalization')\n",
    "\n",
    "# Plot normalized confusion matrix\n",
    "plt.figure(figsize=(10,5))\n",
    "plot_confusion_matrix(cnf_matrix, classes=class_names, normalize=True,\n",
    "                      title='Normalized confusion matrix')\n",
    "\n",
    "plt.show()"
   ]
  },
  {
   "cell_type": "code",
   "execution_count": 42,
   "metadata": {
    "collapsed": false
   },
   "outputs": [],
   "source": [
    "filename = 'pm_test.txt'  # leemos el fichero con los datos de test\n",
    "\n",
    "D = pd.read_csv(filename, delimiter=\"|\", decimal=\",\", index_col = 0)\n",
    "\n",
    "# Sort columns by name\n",
    "D = D.reindex_axis(sorted(D.columns), axis=1)"
   ]
  },
  {
   "cell_type": "code",
   "execution_count": 49,
   "metadata": {
    "collapsed": false
   },
   "outputs": [
    {
     "data": {
      "text/plain": [
       "Counter({0: 154864, 1: 47653})"
      ]
     },
     "execution_count": 49,
     "metadata": {},
     "output_type": "execute_result"
    }
   ],
   "source": [
    "# Predecimos sobre el conjunto de test\n",
    "X_test_final = D.values\n",
    "y_pred_final = alg.predict(X_test_final)\n",
    "Counter(y_pred_final)  # contamos el número de muestras en cada clase"
   ]
  },
  {
   "cell_type": "markdown",
   "metadata": {},
   "source": [
    "# Generación de fichero de respuesta"
   ]
  },
  {
   "cell_type": "code",
   "execution_count": 55,
   "metadata": {
    "collapsed": false
   },
   "outputs": [],
   "source": [
    "D_resp = pd.Series(y_pred_final, index = D.index, name=\"Respuesta\").to_frame()"
   ]
  },
  {
   "cell_type": "code",
   "execution_count": 60,
   "metadata": {
    "collapsed": false
   },
   "outputs": [],
   "source": [
    "D_resp.to_csv(\"submission.txt\", sep=\"|\")"
   ]
  }
 ],
 "metadata": {
  "kernelspec": {
   "display_name": "Python 3",
   "language": "python",
   "name": "python3"
  },
  "language_info": {
   "codemirror_mode": {
    "name": "ipython",
    "version": 3
   },
   "file_extension": ".py",
   "mimetype": "text/x-python",
   "name": "python",
   "nbconvert_exporter": "python",
   "pygments_lexer": "ipython3",
   "version": "3.5.2"
  }
 },
 "nbformat": 4,
 "nbformat_minor": 0
}
